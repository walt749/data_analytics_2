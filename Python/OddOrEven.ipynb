{
 "cells": [
  {
   "cell_type": "markdown",
   "metadata": {},
   "source": [
    "# Odd or even project"
   ]
  },
  {
   "cell_type": "markdown",
   "metadata": {},
   "source": [
    "### Ask the user for a number. Depending on whether the number is even or odd, print out an appropriate message to the user. Hint: how does an even / odd number react differently when divided by 2?"
   ]
  },
  {
   "cell_type": "code",
   "execution_count": 16,
   "metadata": {},
   "outputs": [
    {
     "name": "stdout",
     "output_type": "stream",
     "text": [
      "enter a number: 80\n",
      "80 is even\n",
      "80 is also a multiple of 4.\n"
     ]
    }
   ],
   "source": [
    "i = input(\"enter a number: \")\n",
    "\n",
    "if int (i) %2 == 0:\n",
    "    print(i + \" is even\")\n",
    "else:\n",
    "      print(i + \" is an Odd number.\")  \n",
    "\n",
    "# if a multiple of 4\n",
    "if int (i) % 4 == 0:\n",
    "    print(i + \" is also a multiple of 4.\")"
   ]
  },
  {
   "cell_type": "markdown",
   "metadata": {},
   "source": [
    "### 2.\tAsk the user for two numbers: one number to check (call it num) and one number to divide by (check). If check divides evenly into num, tell that to the user. If not, print a different appropriate message."
   ]
  },
  {
   "cell_type": "code",
   "execution_count": null,
   "metadata": {},
   "outputs": [],
   "source": [
    "num = input(\"enter first number num: \")\n",
    "check = input(\"enter second number check: \")\n",
    "\n",
    "if int (num) % int (check) == 0:\n",
    "    print(num +\" divides evenly by \"+check)\n",
    "else:\n",
    "    print()"
   ]
  }
 ],
 "metadata": {
  "kernelspec": {
   "display_name": "Python 3",
   "language": "python",
   "name": "python3"
  },
  "language_info": {
   "codemirror_mode": {
    "name": "ipython",
    "version": 3
   },
   "file_extension": ".py",
   "mimetype": "text/x-python",
   "name": "python",
   "nbconvert_exporter": "python",
   "pygments_lexer": "ipython3",
   "version": "3.7.3"
  }
 },
 "nbformat": 4,
 "nbformat_minor": 4
}

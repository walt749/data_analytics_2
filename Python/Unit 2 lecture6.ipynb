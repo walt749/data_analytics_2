{
 "cells": [
  {
   "cell_type": "code",
   "execution_count": 1,
   "metadata": {
    "colab": {
     "base_uri": "https://localhost:8080/"
    },
    "id": "F_xHNDgG4UoS",
    "outputId": "2a129680-f620-4c08-9dab-7e58fe0ebea3"
   },
   "outputs": [
    {
     "name": "stdout",
     "output_type": "stream",
     "text": [
      "Hello there!\n"
     ]
    }
   ],
   "source": [
    "message = \"Hello there!\"\n",
    "print(message)"
   ]
  },
  {
   "cell_type": "code",
   "execution_count": 5,
   "metadata": {},
   "outputs": [],
   "source": [
    "names = {\n",
    "    \"first\": \"Walter\",\n",
    "    \"lastName\": \"Broncano\"\n",
    "}"
   ]
  },
  {
   "cell_type": "code",
   "execution_count": 6,
   "metadata": {},
   "outputs": [
    {
     "name": "stdout",
     "output_type": "stream",
     "text": [
      "{'first': 'Walter', 'lastName': 'Broncano'}\n"
     ]
    }
   ],
   "source": [
    "print(names)"
   ]
  },
  {
   "cell_type": "code",
   "execution_count": 7,
   "metadata": {},
   "outputs": [
    {
     "name": "stdout",
     "output_type": "stream",
     "text": [
      "hello, Walter Broncano\n"
     ]
    }
   ],
   "source": [
    "print(\"hello, \" + names[\"first\"] + \" \" +names[\"lastName\"])"
   ]
  },
  {
   "cell_type": "markdown",
   "metadata": {},
   "source": [
    "4.\tCreate a dictionary that holds 2 key: value pairs:\n",
    "a.\tLook through your dictionary and print each pair,\n"
   ]
  },
  {
   "cell_type": "code",
   "execution_count": 10,
   "metadata": {},
   "outputs": [
    {
     "name": "stdout",
     "output_type": "stream",
     "text": [
      "first Walter\n",
      "lastName Broncano\n"
     ]
    }
   ],
   "source": [
    "for x in names:\n",
    "  print(x +\" \"+ names[x]) "
   ]
  },
  {
   "cell_type": "markdown",
   "metadata": {},
   "source": [
    "5.\tCreate a nested dictionary containing three dictionaries – these dictionaries could be anything (favorite pets, travel locations, etc.)\n",
    "a.\tLoop through the dictionaries and print a message for each.\n"
   ]
  },
  {
   "cell_type": "code",
   "execution_count": 18,
   "metadata": {},
   "outputs": [
    {
     "name": "stdout",
     "output_type": "stream",
     "text": [
      "One of my favorite car is a m3 from the brand BMW and year 2022\n",
      "One of my favorite car is a Aclass from the brand MercedesBenz and year 2020\n",
      "One of my favorite car is a Corvette from the brand Chevorlet and year 2020\n"
     ]
    }
   ],
   "source": [
    "favoriteCars = {\n",
    "    \n",
    "    \"car1\": {\n",
    "        \n",
    "        \"Brand\": \"BMW\",\n",
    "        \"Name\": \"m3\",\n",
    "        \"Year\": \"2022\"\n",
    "        \n",
    "    },\n",
    "    \"car2\": {\n",
    "        \n",
    "        \"Brand\": \"MercedesBenz\",\n",
    "        \"Name\": \"Aclass\",\n",
    "        \"Year\": \"2020\"\n",
    "        \n",
    "    },\n",
    "    \n",
    "    \"car3\": {\n",
    "        \n",
    "        \"Brand\": \"Chevorlet\",\n",
    "        \"Name\": \"Corvette\",\n",
    "        \"Year\": \"2020\"\n",
    "        \n",
    "    }\n",
    "}\n",
    "\n",
    "for x in favoriteCars:\n",
    "    print(\"One of my favorite car is a \" +favoriteCars[x][\"Name\"] + \" from the brand \" +favoriteCars[x][\"Brand\"] \n",
    "          +\" and year \" +favoriteCars[x][\"Year\"])"
   ]
  },
  {
   "cell_type": "code",
   "execution_count": null,
   "metadata": {},
   "outputs": [],
   "source": []
  }
 ],
 "metadata": {
  "colab": {
   "authorship_tag": "ABX9TyOv87CCv2qRhsA7KVH9iu16",
   "include_colab_link": true,
   "name": "Untitled3.ipynb",
   "provenance": []
  },
  "kernelspec": {
   "display_name": "Python 3",
   "language": "python",
   "name": "python3"
  },
  "language_info": {
   "codemirror_mode": {
    "name": "ipython",
    "version": 3
   },
   "file_extension": ".py",
   "mimetype": "text/x-python",
   "name": "python",
   "nbconvert_exporter": "python",
   "pygments_lexer": "ipython3",
   "version": "3.7.3"
  }
 },
 "nbformat": 4,
 "nbformat_minor": 1
}
